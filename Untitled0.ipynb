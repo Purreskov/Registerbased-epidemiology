{
  "nbformat": 4,
  "nbformat_minor": 0,
  "metadata": {
    "colab": {
      "provenance": [],
      "include_colab_link": true
    },
    "kernelspec": {
      "name": "ir",
      "display_name": "R"
    },
    "language_info": {
      "name": "R"
    }
  },
  "cells": [
    {
      "cell_type": "markdown",
      "metadata": {
        "id": "view-in-github",
        "colab_type": "text"
      },
      "source": [
        "<a href=\"https://colab.research.google.com/github/Purreskov/Registerbased-epidemiology/blob/main/Untitled0.ipynb\" target=\"_parent\"><img src=\"https://colab.research.google.com/assets/colab-badge.svg\" alt=\"Open In Colab\"/></a>"
      ]
    },
    {
      "cell_type": "code",
      "source": [
        "# 1)\t Get an overview of the lpr_adm.dta and lpr_diag.dta\n",
        "rm(list=ls()) # this code clears the current R environment\n",
        "\n",
        "###load packages\n",
        "library(haven)\n",
        "library(dplyr)\n",
        "library(readxl)\n",
        "library(ggplot2)\n",
        "library(data.table)\n",
        "library(survival)\n",
        "\n",
        "\n",
        "###load the package\n",
        "library(haven)\n",
        "library(dplyr)\n",
        "library(readxl)\n",
        "library(ggplot2)\n",
        "library(data.table)\n",
        "library(rstatix)\n",
        "\n",
        "\n",
        "#Open the dataset ”gp” and examine the data.\n",
        "#setwd(\"/content/sample_data\")\n",
        "#getwd()\n",
        "\n",
        "\n",
        "dch <- readRDS(\"/content/sample_data/dch.news.rds\")\n",
        "table(dch$age)\n",
        "\n",
        "#Sortere under 65 årige væk\n",
        "#dch <- dch%>%\n",
        " # filter(age>=65)\n",
        "\n",
        "dch$age_cat <-ifelse(dch$age<=54,\"50-54\",\n",
        "                     ifelse(dch$age<=59,\"55-59\",\n",
        "                            ifelse(dch$age<=65,\"60-65\")))\n",
        "\n",
        "\n",
        "dch$bmi_cat <- ifelse(dch$bmi<18.5,\"underweight\",\n",
        "                   ifelse(dch$bmi<25,\"normal\",\n",
        "                          ifelse(dch$bmi<30,\"overweight\",\n",
        "                                 ifelse(dch$bmi>=30,\"obese\",NA))))\n",
        "#dch$bmi4<-NULL\n",
        "#dch$age_cal<-NULL\n",
        "\n",
        "########### Vital status ##############\n",
        "vitalstatus <- read_dta(\"C:/Users/andre/OneDrive/Dokumenter/Kandidat/1. semester KA/Registerbased epidemiology/Modul 4/vitalstatus2009.dta\")\n",
        "\n",
        "#merge dch and vital status\n",
        "dch.cpr<- merge(dch,vitalstatus,by='id',all.x = T)\n",
        "\n",
        "#define dead\n",
        "dch.cpr$dead <- ifelse(dch.cpr$STATUS2009.x==90,1,0)\n",
        "table(dch.cpr$dead)\n",
        "\n",
        "#Create a new variable \"enddate\" that contains the date of the end of\n",
        "# follow-up for all the participants\n",
        "dch.cpr$enddate <- ifelse(is.na(dch.cpr$SDATO2009.x),'2009-12-31',as.character(dch.cpr$SDATO2009.x))\n",
        "str(dch.cpr$enddate)\n",
        "dch.cpr$enddate <- as.Date(dch.cpr$enddate)\n",
        "\n",
        "summary(dch.cpr$enddate)\n",
        "\n",
        "#Create a new variable \"time\" that contains the follow-up time in years for each cohort participant\n",
        "dch.cpr$time <- dch.cpr$enddate-dch.cpr$mdato\n",
        "str(dch.cpr$time)\n",
        "summary(as.numeric(dch.cpr$time))\n",
        "\n",
        "dch.cpr$time <- as.numeric(dch.cpr$time)/365.25\n",
        "summary(dch.cpr$time)\n",
        "\n",
        "\n",
        "######## cause of death ###############\n",
        "causeofdeath <- read_dta(\"C:/Users/andre/OneDrive/Dokumenter/Kandidat/1. semester KA/Registerbased epidemiology/Modul 5/causeofdeath.dta\")\n",
        "\n",
        "dch.cpr.death <- merge(dch.cpr,causeofdeath,by='id',all.x = T)\n"
      ],
      "metadata": {
        "id": "K-pknxbb_n5y",
        "colab": {
          "base_uri": "https://localhost:8080/",
          "height": 106
        },
        "outputId": "46bb79a0-551e-4b7d-924b-5aab2835f245"
      },
      "execution_count": null,
      "outputs": [
        {
          "output_type": "error",
          "ename": "ERROR",
          "evalue": "Error in library(rstatix): there is no package called ‘rstatix’\n",
          "traceback": [
            "Error in library(rstatix): there is no package called ‘rstatix’\nTraceback:\n",
            "1. stop(packageNotFoundError(package, lib.loc, sys.call()))"
          ]
        }
      ]
    },
    {
      "cell_type": "code",
      "source": [
        "print(2+2)"
      ],
      "metadata": {
        "id": "vwW4cVBbA_lG",
        "colab": {
          "base_uri": "https://localhost:8080/"
        },
        "outputId": "61796b35-a7b7-4e68-d552-f2a844815be4"
      },
      "execution_count": null,
      "outputs": [
        {
          "output_type": "stream",
          "name": "stdout",
          "text": [
            "[1] 4\n"
          ]
        }
      ]
    },
    {
      "source": [
        "install.packages(\"haven\", version = \"2.5.1\") # Or the latest version\n",
        "   library(haven)"
      ],
      "cell_type": "code",
      "metadata": {
        "id": "5XwcFovGGZkX",
        "colab": {
          "base_uri": "https://localhost:8080/"
        },
        "outputId": "09025263-f9df-4a38-c1d9-562d5ca67a8c"
      },
      "execution_count": 3,
      "outputs": [
        {
          "output_type": "stream",
          "name": "stderr",
          "text": [
            "Installing package into ‘/usr/local/lib/R/site-library’\n",
            "(as ‘lib’ is unspecified)\n",
            "\n"
          ]
        }
      ]
    },
    {
      "source": [
        "dch_data <- read_dta(\"/content/dch.dta\")"
      ],
      "cell_type": "code",
      "metadata": {
        "id": "33pXFQj_GbgF",
        "colab": {
          "base_uri": "https://localhost:8080/",
          "height": 343
        },
        "outputId": "a6a721b2-633a-4009-8e30-dc958cc1ed6a"
      },
      "execution_count": 4,
      "outputs": [
        {
          "output_type": "error",
          "ename": "ERROR",
          "evalue": "Error: '/content/dch.dta' does not exist.\n",
          "traceback": [
            "Error: '/content/dch.dta' does not exist.\nTraceback:\n",
            "1. readr::datasource(file)",
            "2. standardise_path(file)",
            "3. check_path(path)",
            "4. stop(\"'\", path, \"' does not exist\", if (!is_absolute_path(path)) {\n .     paste0(\" in current working directory ('\", getwd(), \"')\")\n . }, \".\", call. = FALSE)",
            "5. .handleSimpleError(function (cnd) \n . {\n .     watcher$capture_plot_and_output()\n .     cnd <- sanitize_call(cnd)\n .     watcher$push(cnd)\n .     switch(on_error, continue = invokeRestart(\"eval_continue\"), \n .         stop = invokeRestart(\"eval_stop\"), error = invokeRestart(\"eval_error\", \n .             cnd))\n . }, \"'/content/dch.dta' does not exist.\", base::quote(NULL))"
          ]
        }
      ]
    }
  ]
}